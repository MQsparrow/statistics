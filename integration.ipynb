{
  "nbformat": 4,
  "nbformat_minor": 0,
  "metadata": {
    "colab": {
      "provenance": [],
      "collapsed_sections": [],
      "authorship_tag": "ABX9TyM8YgPjFRBdgfZyg5jWO7jb",
      "include_colab_link": true
    },
    "kernelspec": {
      "name": "python3",
      "display_name": "Python 3"
    },
    "language_info": {
      "name": "python"
    }
  },
  "cells": [
    {
      "cell_type": "markdown",
      "metadata": {
        "id": "view-in-github",
        "colab_type": "text"
      },
      "source": [
        "<a href=\"https://colab.research.google.com/github/MQsparrow/statistics/blob/main/integration.ipynb\" target=\"_parent\"><img src=\"https://colab.research.google.com/assets/colab-badge.svg\" alt=\"Open In Colab\"/></a>"
      ]
    },
    {
      "cell_type": "code",
      "execution_count": null,
      "metadata": {
        "id": "QOo8HQKs_qNX"
      },
      "outputs": [],
      "source": [
        "import random\n",
        "import numpy as np\n",
        "import math\n",
        "\n",
        "def f(x):\n",
        "    return 4*x**5+2*x**3+7*x**2+13"
      ]
    },
    {
      "cell_type": "code",
      "source": [
        "#100\n",
        "np = 10**2\n",
        "avg = 0\n",
        "\n",
        "n = []\n",
        "for _ in range(np):\n",
        "    r = random.random()\n",
        "    n.insert(0, f(r*5)*5-f(r*2)*2)\n",
        "\n",
        "avg = sum(n)/len(n)\n",
        "d = [ (i - avg) ** 2 for i in n]\n",
        "std = math.sqrt(sum(d) / len(d))\n",
        "\n",
        "print(\"average is: \", avg)\n",
        "print(\"deviation is: \", 10990.5-avg)\n",
        "print(\"st.deviation is: \", std)\n",
        "print(\"st.deviation/(np^(1/2)) is: \", std/(np**(1/2)))"
      ],
      "metadata": {
        "id": "o6iCXUUtPtCW",
        "colab": {
          "base_uri": "https://localhost:8080/"
        },
        "outputId": "a8b8cd1a-9145-4dcc-ae9c-b6a93593f2bf"
      },
      "execution_count": null,
      "outputs": [
        {
          "output_type": "stream",
          "name": "stdout",
          "text": [
            "average is:  12111.326371670208\n",
            "deviation is:  -1120.8263716702077\n",
            "st.deviation is:  16982.917730336194\n",
            "st.deviation/(np^(1/2)) is:  1698.2917730336194\n"
          ]
        }
      ]
    },
    {
      "cell_type": "code",
      "source": [
        "# 10000\n",
        "np = 10**4\n",
        "avg = 0\n",
        "\n",
        "n = []\n",
        "for _ in range(np):\n",
        "    r = random.random()\n",
        "    n.insert(0, f(r*5)*5-f(r*2)*2)\n",
        "\n",
        "avg = sum(n)/len(n)\n",
        "d = [ (i - avg) ** 2 for i in n]\n",
        "std = math.sqrt(sum(d) / len(d))\n",
        "\n",
        "print(\"average is: \", avg)\n",
        "print(\"deviation is: \", 10990.5-avg)\n",
        "print(\"st.deviation is: \", std)\n",
        "print(\"st.deviation/(np^(1/2)) is: \", std/(np**(1/2)))"
      ],
      "metadata": {
        "id": "pPuS58SVN1ab",
        "colab": {
          "base_uri": "https://localhost:8080/"
        },
        "outputId": "925f7348-e9bb-4fc1-ffe5-0c2d393d9651"
      },
      "execution_count": null,
      "outputs": [
        {
          "output_type": "stream",
          "name": "stdout",
          "text": [
            "average is:  10918.5902620095\n",
            "deviation is:  71.9097379904997\n",
            "st.deviation is:  16119.865272830253\n",
            "st.deviation/(np^(1/2)) is:  161.19865272830253\n"
          ]
        }
      ]
    },
    {
      "cell_type": "code",
      "source": [
        "#1000000\n",
        "np = 10**6\n",
        "avg = 0\n",
        "\n",
        "n = []\n",
        "for _ in range(np):\n",
        "    r = random.random()\n",
        "    n.insert(0, f(r*5)*5-f(r*2)*2)\n",
        "\n",
        "avg = sum(n)/len(n)\n",
        "d = [ (i - avg) ** 2 for i in n]\n",
        "std = math.sqrt(sum(d) / len(d))\n",
        "\n",
        "print(\"average is: \", avg)\n",
        "print(\"deviation is: \", 10990.5-avg)\n",
        "print(\"st.deviation is: \", std)\n",
        "print(\"st.deviation/(np^(1/2)) is: \", std/(np**(1/2)))"
      ],
      "metadata": {
        "id": "T-E63y2bPxG1",
        "colab": {
          "base_uri": "https://localhost:8080/"
        },
        "outputId": "013ff2f9-21d5-4855-ae78-5347a59e6776"
      },
      "execution_count": null,
      "outputs": [
        {
          "output_type": "stream",
          "name": "stdout",
          "text": [
            "average is:  10978.52760475826\n",
            "deviation is:  11.972395241740742\n",
            "st.deviation is:  16182.027286791925\n",
            "st.deviation/(np^(1/2)) is:  16.182027286791925\n"
          ]
        }
      ]
    }
  ]
}